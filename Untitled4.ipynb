{
  "nbformat": 4,
  "nbformat_minor": 0,
  "metadata": {
    "colab": {
      "provenance": [],
      "authorship_tag": "ABX9TyNkfy1drm0oOQjKEdngdJl5",
      "include_colab_link": true
    },
    "kernelspec": {
      "name": "python3",
      "display_name": "Python 3"
    },
    "language_info": {
      "name": "python"
    }
  },
  "cells": [
    {
      "cell_type": "markdown",
      "metadata": {
        "id": "view-in-github",
        "colab_type": "text"
      },
      "source": [
        "<a href=\"https://colab.research.google.com/github/IBM-EPBL/IBM-Project-19894-1659708654/blob/main/Untitled4.ipynb\" target=\"_parent\"><img src=\"https://colab.research.google.com/assets/colab-badge.svg\" alt=\"Open In Colab\"/></a>"
      ]
    },
    {
      "cell_type": "code",
      "execution_count": 57,
      "metadata": {
        "colab": {
          "base_uri": "https://localhost:8080/"
        },
        "id": "O5Bj4glZVZ6a",
        "outputId": "b4399482-7105-460d-9a80-17cc70cd0c19"
      },
      "outputs": [
        {
          "output_type": "stream",
          "name": "stdout",
          "text": [
            "Enter the string:kodambakkam\n",
            "fghjk\n"
          ]
        }
      ],
      "source": [
        "import requests\n",
        "import urllib.parse\n",
        "import folium\n",
        "address = 'kodambakkam'\n",
        "address1 = 'virugambakkam'\n",
        "address2 = 'Royapettah'\n",
        "address3 = 'Ambattur'\n",
        "address4 = 'Coimbatore'\n",
        "str1 = input(\"Enter the string:\")\n",
        "if(str1 == address):\n",
        "  url = 'https://nominatim.openstreetmap.org/search/' + urllib.parse.quote(address) +'?format=json'\n",
        "  response = requests.get(url).json()\n",
        "  a = response[1][\"lat\"]\n",
        "  b = response[1][\"lon\"]\n",
        "  m = folium.Map(location =[a,b],zoom_start=15)\n",
        "  folium.Marker(location =[a,b],popup=\" kodambakkam\",tooltip=\"click for more info\").add_to(m)\n",
        "  folium.Marker(location =[13.0559, 80.2265],popup=\" \",tooltip=\"click for more info\").add_to(m)\n",
        "folium.Marker(location =[13.0418, 80.2341],popup=\" \",tooltip=\"click for more info\").add_to(m)\n",
        "folium.Marker(location =[13.0532, 80.1922],popup=\" \",tooltip=\"click for more info\").add_to(m)\n",
        "m\n",
        "if(str1 == address1):\n",
        "  url1 = 'https://nominatim.openstreetmap.org/search/' + urllib.parse.quote(address1) +'?format=json'\n",
        "  response = requests.get(url1).json()\n",
        "  a = response[1][\"lat\"]\n",
        "  b = response[1][\"lon\"]\n",
        "  m = folium.Map(location =[a,b],zoom_start=15)\n",
        "  folium.Marker(location =[a,b],popup=\" \",tooltip=\"click for more info\").add_to(m)\n",
        "  folium.Marker(location =[22.6992, 75.8671],popup=\" \",tooltip=\"click for more info\").add_to(m)\n",
        "folium.Marker(location =[13.0436, 80.1817],popup=\" \",tooltip=\"click for more info\").add_to(m)\n",
        "#folium.Marker(location =[13.0532, 80.1922],popup=\" \",tooltip=\"click for more info\").add_to(m)\n",
        "m\n",
        "if(str1 == address2):\n",
        "  url2 = 'https://nominatim.openstreetmap.org/search/' + urllib.parse.quote(address2) +'?format=json'\n",
        "  response = requests.get(url2).json()\n",
        "  a = response[1][\"lat\"]\n",
        "  b = response[1][\"lon\"]\n",
        "  m = folium.Map(location =[a,b],zoom_start=15)\n",
        "  folium.Marker(location =[a,b],popup=\" Royapettah\",tooltip=\"click for more info\").add_to(m)\n",
        "folium.Marker(location =[  13.0497, 80.2577],popup=\" kodambakkam\",tooltip=\"click for more info\").add_to(m)\n",
        "folium.Marker(location =[13.047059,80.264052],popup=\"Harshitha's home\",tooltip=\"click for more info\").add_to(m)\n",
        "m\n",
        "if(str1 == address3):\n",
        "  url2 = 'https://nominatim.openstreetmap.org/search/' + urllib.parse.quote(address3) +'?format=json'\n",
        "  response = requests.get(url2).json()\n",
        "  a = response[1][\"lat\"]\n",
        "  b = response[1][\"lon\"]\n",
        "  m = folium.Map(location =[a,b],zoom_start=15)\n",
        "  folium.Marker(location =[a,b],popup=\" Ambattur\",tooltip=\"click for more info\").add_to(m)\n",
        "  folium.Marker(location =[13.0892, 80.1613],popup=\" \",tooltip=\"click for more info\").add_to(m)\n",
        "folium.Marker(location =[13.1142, 80.1527],popup=\" \",tooltip=\"click for more info\").add_to(m)\n",
        "folium.Marker(location =[13.1197, 80.1501],popup=\" \",tooltip=\"click for more info\").add_to(m)\n",
        "m\n",
        "if(str1 == address4):\n",
        "  url3 = 'https://nominatim.openstreetmap.org/search/' + urllib.parse.quote(address4) +'?format=json'\n",
        "  response = requests.get(url3).json()\n",
        "  a = response[1][\"lat\"]\n",
        "  b = response[1][\"lon\"]\n",
        "  m = folium.Map(location =[a,b],zoom_start=15)\n",
        "  folium.Marker(location =[a,b],popup=\"Coimbatore\",tooltip=\"click for more info\").add_to(m)\n",
        "  folium.Marker(location =[11.0242, 77.0028],popup=\" \",tooltip=\"click for more info\").add_to(m)\n",
        "folium.Marker(location =[10.822477, 77.016144],popup=\" \",tooltip=\"click for more info\").add_to(m)\n",
        "folium.Marker(location =[11.0102, 76.9504],popup=\" \",tooltip=\"click for more info\").add_to(m)\n",
        "m\n",
        "\n",
        "\n",
        "\n",
        "\n"
      ]
    }
  ]
}